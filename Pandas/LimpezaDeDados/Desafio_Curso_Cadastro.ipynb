{
 "cells": [
  {
   "cell_type": "code",
   "execution_count": 2,
   "metadata": {},
   "outputs": [],
   "source": [
    "import pandas as pd\n",
    "import json"
   ]
  },
  {
   "cell_type": "code",
   "execution_count": 5,
   "metadata": {},
   "outputs": [
    {
     "data": {
      "text/html": [
       "<div>\n",
       "<style scoped>\n",
       "    .dataframe tbody tr th:only-of-type {\n",
       "        vertical-align: middle;\n",
       "    }\n",
       "\n",
       "    .dataframe tbody tr th {\n",
       "        vertical-align: top;\n",
       "    }\n",
       "\n",
       "    .dataframe thead th {\n",
       "        text-align: right;\n",
       "    }\n",
       "</style>\n",
       "<table border=\"1\" class=\"dataframe\">\n",
       "  <thead>\n",
       "    <tr style=\"text-align: right;\">\n",
       "      <th></th>\n",
       "      <th>curso</th>\n",
       "      <th>categoria</th>\n",
       "      <th>carga_horaria</th>\n",
       "      <th>concluintes</th>\n",
       "      <th>data_inicio</th>\n",
       "      <th>data_conclusao</th>\n",
       "      <th>descricao</th>\n",
       "      <th>preco</th>\n",
       "      <th>instrutor.nome</th>\n",
       "      <th>instrutor.email</th>\n",
       "      <th>instrutor.telefone</th>\n",
       "    </tr>\n",
       "  </thead>\n",
       "  <tbody>\n",
       "    <tr>\n",
       "      <th>0</th>\n",
       "      <td>Introdução à programação</td>\n",
       "      <td>Programação</td>\n",
       "      <td>20 horas</td>\n",
       "      <td>100</td>\n",
       "      <td>2022-01-01</td>\n",
       "      <td>2022-01-20</td>\n",
       "      <td>Curso introdutório à programação com Python</td>\n",
       "      <td>99.90</td>\n",
       "      <td>João Silva</td>\n",
       "      <td>joao.silva@emailaleatorio.com</td>\n",
       "      <td>(11) 9999-9999</td>\n",
       "    </tr>\n",
       "    <tr>\n",
       "      <th>1</th>\n",
       "      <td>Excel para iniciantes</td>\n",
       "      <td>Produtividade</td>\n",
       "      <td>None</td>\n",
       "      <td>None</td>\n",
       "      <td>None</td>\n",
       "      <td>None</td>\n",
       "      <td>None</td>\n",
       "      <td>None</td>\n",
       "      <td>Maria Oliveira</td>\n",
       "      <td>maria.oliveira@emailaleatorio.com</td>\n",
       "      <td>(11) 8888-8888</td>\n",
       "    </tr>\n",
       "    <tr>\n",
       "      <th>2</th>\n",
       "      <td>Marketing digital para negócios</td>\n",
       "      <td>Marketing</td>\n",
       "      <td>30 horas</td>\n",
       "      <td>75</td>\n",
       "      <td>2022-03-01</td>\n",
       "      <td>2022-03-31</td>\n",
       "      <td>Curso introdutório em marketing</td>\n",
       "      <td>89.9</td>\n",
       "      <td>Ana Santos</td>\n",
       "      <td>ana.santos@emailaleatorio.com</td>\n",
       "      <td>(11) 7777-7777</td>\n",
       "    </tr>\n",
       "    <tr>\n",
       "      <th>3</th>\n",
       "      <td>Inteligência artificial</td>\n",
       "      <td>Programação</td>\n",
       "      <td>40 horas</td>\n",
       "      <td></td>\n",
       "      <td>2022-04-01</td>\n",
       "      <td></td>\n",
       "      <td>Curso avançado sobre inteligência artificial c...</td>\n",
       "      <td>129.9</td>\n",
       "      <td></td>\n",
       "      <td>contato@emailaleatorio.com</td>\n",
       "      <td></td>\n",
       "    </tr>\n",
       "    <tr>\n",
       "      <th>4</th>\n",
       "      <td>Inglês para negócios</td>\n",
       "      <td>Idiomas</td>\n",
       "      <td>20 horas</td>\n",
       "      <td>30</td>\n",
       "      <td></td>\n",
       "      <td></td>\n",
       "      <td>Curso de inglês para negócios</td>\n",
       "      <td>69.9</td>\n",
       "      <td>John Smith</td>\n",
       "      <td></td>\n",
       "      <td></td>\n",
       "    </tr>\n",
       "    <tr>\n",
       "      <th>5</th>\n",
       "      <td>Introdução à programação</td>\n",
       "      <td>Programação</td>\n",
       "      <td>20 horas</td>\n",
       "      <td>100</td>\n",
       "      <td>2022-01-01</td>\n",
       "      <td>2022-01-20</td>\n",
       "      <td>Curso introdutório à programação com Python</td>\n",
       "      <td>99.90</td>\n",
       "      <td>João Silva</td>\n",
       "      <td>joao.silva@emailaleatorio.com</td>\n",
       "      <td>(11) 9999-9999</td>\n",
       "    </tr>\n",
       "  </tbody>\n",
       "</table>\n",
       "</div>"
      ],
      "text/plain": [
       "                             curso      categoria carga_horaria concluintes  \\\n",
       "0         Introdução à programação    Programação      20 horas         100   \n",
       "1            Excel para iniciantes  Produtividade          None        None   \n",
       "2  Marketing digital para negócios      Marketing      30 horas          75   \n",
       "3          Inteligência artificial    Programação      40 horas               \n",
       "4             Inglês para negócios        Idiomas      20 horas          30   \n",
       "5         Introdução à programação    Programação      20 horas         100   \n",
       "\n",
       "  data_inicio data_conclusao  \\\n",
       "0  2022-01-01     2022-01-20   \n",
       "1        None           None   \n",
       "2  2022-03-01     2022-03-31   \n",
       "3  2022-04-01                  \n",
       "4                              \n",
       "5  2022-01-01     2022-01-20   \n",
       "\n",
       "                                           descricao  preco  instrutor.nome  \\\n",
       "0        Curso introdutório à programação com Python  99.90      João Silva   \n",
       "1                                               None   None  Maria Oliveira   \n",
       "2                    Curso introdutório em marketing   89.9      Ana Santos   \n",
       "3  Curso avançado sobre inteligência artificial c...  129.9                   \n",
       "4                      Curso de inglês para negócios   69.9      John Smith   \n",
       "5        Curso introdutório à programação com Python  99.90      João Silva   \n",
       "\n",
       "                     instrutor.email instrutor.telefone  \n",
       "0      joao.silva@emailaleatorio.com     (11) 9999-9999  \n",
       "1  maria.oliveira@emailaleatorio.com     (11) 8888-8888  \n",
       "2      ana.santos@emailaleatorio.com     (11) 7777-7777  \n",
       "3         contato@emailaleatorio.com                     \n",
       "4                                                        \n",
       "5      joao.silva@emailaleatorio.com     (11) 9999-9999  "
      ]
     },
     "execution_count": 5,
     "metadata": {},
     "output_type": "execute_result"
    }
   ],
   "source": [
    "with open('curso_cadastro.json', 'r', encoding='utf-8') as f:\n",
    "    data = json.load(f)\n",
    "\n",
    "dados_curso = pd.json_normalize(data)\n",
    "dados_curso"
   ]
  },
  {
   "cell_type": "markdown",
   "metadata": {},
   "source": [
    "### Valores nulos: são valores ausentes em algumas das colunas que devem ser preenchidos para que a análise seja correta."
   ]
  },
  {
   "cell_type": "code",
   "execution_count": 6,
   "metadata": {},
   "outputs": [
    {
     "data": {
      "text/plain": [
       "6"
      ]
     },
     "execution_count": 6,
     "metadata": {},
     "output_type": "execute_result"
    }
   ],
   "source": [
    "# verificando valores nulos\n",
    "dados_curso.isnull().sum().sum()"
   ]
  },
  {
   "cell_type": "code",
   "execution_count": 7,
   "metadata": {},
   "outputs": [
    {
     "data": {
      "text/html": [
       "<div>\n",
       "<style scoped>\n",
       "    .dataframe tbody tr th:only-of-type {\n",
       "        vertical-align: middle;\n",
       "    }\n",
       "\n",
       "    .dataframe tbody tr th {\n",
       "        vertical-align: top;\n",
       "    }\n",
       "\n",
       "    .dataframe thead th {\n",
       "        text-align: right;\n",
       "    }\n",
       "</style>\n",
       "<table border=\"1\" class=\"dataframe\">\n",
       "  <thead>\n",
       "    <tr style=\"text-align: right;\">\n",
       "      <th></th>\n",
       "      <th>curso</th>\n",
       "      <th>categoria</th>\n",
       "      <th>carga_horaria</th>\n",
       "      <th>concluintes</th>\n",
       "      <th>data_inicio</th>\n",
       "      <th>data_conclusao</th>\n",
       "      <th>descricao</th>\n",
       "      <th>preco</th>\n",
       "      <th>instrutor.nome</th>\n",
       "      <th>instrutor.email</th>\n",
       "      <th>instrutor.telefone</th>\n",
       "    </tr>\n",
       "  </thead>\n",
       "  <tbody>\n",
       "    <tr>\n",
       "      <th>1</th>\n",
       "      <td>Excel para iniciantes</td>\n",
       "      <td>Produtividade</td>\n",
       "      <td>None</td>\n",
       "      <td>None</td>\n",
       "      <td>None</td>\n",
       "      <td>None</td>\n",
       "      <td>None</td>\n",
       "      <td>None</td>\n",
       "      <td>Maria Oliveira</td>\n",
       "      <td>maria.oliveira@emailaleatorio.com</td>\n",
       "      <td>(11) 8888-8888</td>\n",
       "    </tr>\n",
       "  </tbody>\n",
       "</table>\n",
       "</div>"
      ],
      "text/plain": [
       "                   curso      categoria carga_horaria concluintes data_inicio  \\\n",
       "1  Excel para iniciantes  Produtividade          None        None        None   \n",
       "\n",
       "  data_conclusao descricao preco  instrutor.nome  \\\n",
       "1           None      None  None  Maria Oliveira   \n",
       "\n",
       "                     instrutor.email instrutor.telefone  \n",
       "1  maria.oliveira@emailaleatorio.com     (11) 8888-8888  "
      ]
     },
     "execution_count": 7,
     "metadata": {},
     "output_type": "execute_result"
    }
   ],
   "source": [
    "# amostra nulos\n",
    "dados_curso[dados_curso.isna().any(axis=1)]"
   ]
  },
  {
   "cell_type": "code",
   "execution_count": 8,
   "metadata": {},
   "outputs": [],
   "source": [
    "# removendo as amostra\n",
    "dados_curso.dropna(inplace=True)"
   ]
  },
  {
   "cell_type": "markdown",
   "metadata": {},
   "source": [
    "### Duplicatas: registros iguais que podem prejudicar a análise dos dados, já que estão representando a mesma informação."
   ]
  },
  {
   "cell_type": "code",
   "execution_count": 9,
   "metadata": {},
   "outputs": [
    {
     "data": {
      "text/plain": [
       "0    False\n",
       "2    False\n",
       "3    False\n",
       "4    False\n",
       "5     True\n",
       "dtype: bool"
      ]
     },
     "execution_count": 9,
     "metadata": {},
     "output_type": "execute_result"
    }
   ],
   "source": [
    "# FALSE - amostra nao duplicada\n",
    "# TRUE - amostra duplicada\n",
    "dados_curso.duplicated()"
   ]
  },
  {
   "cell_type": "code",
   "execution_count": 10,
   "metadata": {},
   "outputs": [],
   "source": [
    "# removendo as linhas duplicadas\n",
    "dados_curso.drop_duplicates(inplace=True)"
   ]
  },
  {
   "cell_type": "markdown",
   "metadata": {},
   "source": [
    "### Strings vazias: valores de texto que não apresentam nenhum conteúdo escrito, o que pode dificultar a análise de dados, principalmente se a coluna tiver muitos valores assim."
   ]
  },
  {
   "cell_type": "code",
   "execution_count": 11,
   "metadata": {},
   "outputs": [
    {
     "data": {
      "text/html": [
       "<div>\n",
       "<style scoped>\n",
       "    .dataframe tbody tr th:only-of-type {\n",
       "        vertical-align: middle;\n",
       "    }\n",
       "\n",
       "    .dataframe tbody tr th {\n",
       "        vertical-align: top;\n",
       "    }\n",
       "\n",
       "    .dataframe thead th {\n",
       "        text-align: right;\n",
       "    }\n",
       "</style>\n",
       "<table border=\"1\" class=\"dataframe\">\n",
       "  <thead>\n",
       "    <tr style=\"text-align: right;\">\n",
       "      <th></th>\n",
       "      <th>curso</th>\n",
       "      <th>categoria</th>\n",
       "      <th>carga_horaria</th>\n",
       "      <th>concluintes</th>\n",
       "      <th>data_inicio</th>\n",
       "      <th>data_conclusao</th>\n",
       "      <th>descricao</th>\n",
       "      <th>preco</th>\n",
       "      <th>instrutor.nome</th>\n",
       "      <th>instrutor.email</th>\n",
       "      <th>instrutor.telefone</th>\n",
       "    </tr>\n",
       "  </thead>\n",
       "  <tbody>\n",
       "    <tr>\n",
       "      <th>3</th>\n",
       "      <td>Inteligência artificial</td>\n",
       "      <td>Programação</td>\n",
       "      <td>40 horas</td>\n",
       "      <td></td>\n",
       "      <td>2022-04-01</td>\n",
       "      <td></td>\n",
       "      <td>Curso avançado sobre inteligência artificial c...</td>\n",
       "      <td>129.9</td>\n",
       "      <td></td>\n",
       "      <td>contato@emailaleatorio.com</td>\n",
       "      <td></td>\n",
       "    </tr>\n",
       "  </tbody>\n",
       "</table>\n",
       "</div>"
      ],
      "text/plain": [
       "                     curso    categoria carga_horaria concluintes data_inicio  \\\n",
       "3  Inteligência artificial  Programação      40 horas              2022-04-01   \n",
       "\n",
       "  data_conclusao                                          descricao  preco  \\\n",
       "3                 Curso avançado sobre inteligência artificial c...  129.9   \n",
       "\n",
       "  instrutor.nome             instrutor.email instrutor.telefone  \n",
       "3                 contato@emailaleatorio.com                     "
      ]
     },
     "execution_count": 11,
     "metadata": {},
     "output_type": "execute_result"
    }
   ],
   "source": [
    "# verificando se a coluna intrutor.nome esta vazia\n",
    "dados_curso[dados_curso[\"instrutor.nome\"] == '']"
   ]
  },
  {
   "cell_type": "code",
   "execution_count": 12,
   "metadata": {},
   "outputs": [
    {
     "data": {
      "text/html": [
       "<div>\n",
       "<style scoped>\n",
       "    .dataframe tbody tr th:only-of-type {\n",
       "        vertical-align: middle;\n",
       "    }\n",
       "\n",
       "    .dataframe tbody tr th {\n",
       "        vertical-align: top;\n",
       "    }\n",
       "\n",
       "    .dataframe thead th {\n",
       "        text-align: right;\n",
       "    }\n",
       "</style>\n",
       "<table border=\"1\" class=\"dataframe\">\n",
       "  <thead>\n",
       "    <tr style=\"text-align: right;\">\n",
       "      <th></th>\n",
       "      <th>curso</th>\n",
       "      <th>categoria</th>\n",
       "      <th>carga_horaria</th>\n",
       "      <th>concluintes</th>\n",
       "      <th>data_inicio</th>\n",
       "      <th>data_conclusao</th>\n",
       "      <th>descricao</th>\n",
       "      <th>preco</th>\n",
       "      <th>instrutor.nome</th>\n",
       "      <th>instrutor.email</th>\n",
       "      <th>instrutor.telefone</th>\n",
       "    </tr>\n",
       "  </thead>\n",
       "  <tbody>\n",
       "    <tr>\n",
       "      <th>3</th>\n",
       "      <td>Inteligência artificial</td>\n",
       "      <td>Programação</td>\n",
       "      <td>40 horas</td>\n",
       "      <td></td>\n",
       "      <td>2022-04-01</td>\n",
       "      <td></td>\n",
       "      <td>Curso avançado sobre inteligência artificial c...</td>\n",
       "      <td>129.9</td>\n",
       "      <td></td>\n",
       "      <td>contato@emailaleatorio.com</td>\n",
       "      <td></td>\n",
       "    </tr>\n",
       "    <tr>\n",
       "      <th>4</th>\n",
       "      <td>Inglês para negócios</td>\n",
       "      <td>Idiomas</td>\n",
       "      <td>20 horas</td>\n",
       "      <td>30</td>\n",
       "      <td></td>\n",
       "      <td></td>\n",
       "      <td>Curso de inglês para negócios</td>\n",
       "      <td>69.9</td>\n",
       "      <td>John Smith</td>\n",
       "      <td></td>\n",
       "      <td></td>\n",
       "    </tr>\n",
       "  </tbody>\n",
       "</table>\n",
       "</div>"
      ],
      "text/plain": [
       "                     curso    categoria carga_horaria concluintes data_inicio  \\\n",
       "3  Inteligência artificial  Programação      40 horas              2022-04-01   \n",
       "4     Inglês para negócios      Idiomas      20 horas          30               \n",
       "\n",
       "  data_conclusao                                          descricao  preco  \\\n",
       "3                 Curso avançado sobre inteligência artificial c...  129.9   \n",
       "4                                     Curso de inglês para negócios   69.9   \n",
       "\n",
       "  instrutor.nome             instrutor.email instrutor.telefone  \n",
       "3                 contato@emailaleatorio.com                     \n",
       "4     John Smith                                                 "
      ]
     },
     "execution_count": 12,
     "metadata": {},
     "output_type": "execute_result"
    }
   ],
   "source": [
    "# verificando se possui labels vazias na coluna data_conclusao\n",
    "dados_curso[dados_curso[\"data_conclusao\"] == '']"
   ]
  },
  {
   "cell_type": "code",
   "execution_count": 13,
   "metadata": {},
   "outputs": [],
   "source": [
    "# substituindo string vazias por valores nulos\n",
    "dados_curso.replace('', pd.NA, inplace=True)"
   ]
  },
  {
   "cell_type": "code",
   "execution_count": 14,
   "metadata": {},
   "outputs": [
    {
     "data": {
      "text/html": [
       "<div>\n",
       "<style scoped>\n",
       "    .dataframe tbody tr th:only-of-type {\n",
       "        vertical-align: middle;\n",
       "    }\n",
       "\n",
       "    .dataframe tbody tr th {\n",
       "        vertical-align: top;\n",
       "    }\n",
       "\n",
       "    .dataframe thead th {\n",
       "        text-align: right;\n",
       "    }\n",
       "</style>\n",
       "<table border=\"1\" class=\"dataframe\">\n",
       "  <thead>\n",
       "    <tr style=\"text-align: right;\">\n",
       "      <th></th>\n",
       "      <th>curso</th>\n",
       "      <th>categoria</th>\n",
       "      <th>carga_horaria</th>\n",
       "      <th>concluintes</th>\n",
       "      <th>data_inicio</th>\n",
       "      <th>data_conclusao</th>\n",
       "      <th>descricao</th>\n",
       "      <th>preco</th>\n",
       "      <th>instrutor.nome</th>\n",
       "      <th>instrutor.email</th>\n",
       "      <th>instrutor.telefone</th>\n",
       "    </tr>\n",
       "  </thead>\n",
       "  <tbody>\n",
       "    <tr>\n",
       "      <th>0</th>\n",
       "      <td>Introdução à programação</td>\n",
       "      <td>Programação</td>\n",
       "      <td>20 horas</td>\n",
       "      <td>100</td>\n",
       "      <td>2022-01-01</td>\n",
       "      <td>2022-01-20</td>\n",
       "      <td>Curso introdutório à programação com Python</td>\n",
       "      <td>99.90</td>\n",
       "      <td>João Silva</td>\n",
       "      <td>joao.silva@emailaleatorio.com</td>\n",
       "      <td>(11) 9999-9999</td>\n",
       "    </tr>\n",
       "    <tr>\n",
       "      <th>2</th>\n",
       "      <td>Marketing digital para negócios</td>\n",
       "      <td>Marketing</td>\n",
       "      <td>30 horas</td>\n",
       "      <td>75</td>\n",
       "      <td>2022-03-01</td>\n",
       "      <td>2022-03-31</td>\n",
       "      <td>Curso introdutório em marketing</td>\n",
       "      <td>89.9</td>\n",
       "      <td>Ana Santos</td>\n",
       "      <td>ana.santos@emailaleatorio.com</td>\n",
       "      <td>(11) 7777-7777</td>\n",
       "    </tr>\n",
       "  </tbody>\n",
       "</table>\n",
       "</div>"
      ],
      "text/plain": [
       "                             curso    categoria carga_horaria concluintes  \\\n",
       "0         Introdução à programação  Programação      20 horas         100   \n",
       "2  Marketing digital para negócios    Marketing      30 horas          75   \n",
       "\n",
       "  data_inicio data_conclusao                                    descricao  \\\n",
       "0  2022-01-01     2022-01-20  Curso introdutório à programação com Python   \n",
       "2  2022-03-01     2022-03-31              Curso introdutório em marketing   \n",
       "\n",
       "   preco instrutor.nome                instrutor.email instrutor.telefone  \n",
       "0  99.90     João Silva  joao.silva@emailaleatorio.com     (11) 9999-9999  \n",
       "2   89.9     Ana Santos  ana.santos@emailaleatorio.com     (11) 7777-7777  "
      ]
     },
     "execution_count": 14,
     "metadata": {},
     "output_type": "execute_result"
    }
   ],
   "source": [
    "# removendo\n",
    "dados_curso.dropna(inplace=True)\n",
    "# exibindo o data\n",
    "dados_curso"
   ]
  },
  {
   "cell_type": "markdown",
   "metadata": {},
   "source": [
    "### Conversão de tipos: algumas colunas do arquivo podem estar no tipo de dados errado, como texto em vez de número, o que pode prejudicar a análise. Nesse caso você deve realizar a conversão para o tipo correto de cada coluna."
   ]
  },
  {
   "cell_type": "code",
   "execution_count": 15,
   "metadata": {},
   "outputs": [
    {
     "name": "stdout",
     "output_type": "stream",
     "text": [
      "<class 'pandas.core.frame.DataFrame'>\n",
      "Int64Index: 2 entries, 0 to 2\n",
      "Data columns (total 11 columns):\n",
      " #   Column              Non-Null Count  Dtype \n",
      "---  ------              --------------  ----- \n",
      " 0   curso               2 non-null      object\n",
      " 1   categoria           2 non-null      object\n",
      " 2   carga_horaria       2 non-null      object\n",
      " 3   concluintes         2 non-null      object\n",
      " 4   data_inicio         2 non-null      object\n",
      " 5   data_conclusao      2 non-null      object\n",
      " 6   descricao           2 non-null      object\n",
      " 7   preco               2 non-null      object\n",
      " 8   instrutor.nome      2 non-null      object\n",
      " 9   instrutor.email     2 non-null      object\n",
      " 10  instrutor.telefone  2 non-null      object\n",
      "dtypes: object(11)\n",
      "memory usage: 192.0+ bytes\n"
     ]
    }
   ],
   "source": [
    "# verificando os tipos\n",
    "dados_curso.info()"
   ]
  },
  {
   "cell_type": "code",
   "execution_count": 16,
   "metadata": {},
   "outputs": [],
   "source": [
    "# alterando a coluna concluintes para o tipo inteiro\n",
    "dados_curso['concluintes'] = dados_curso['concluintes'].astype(int)\n",
    "\n",
    "# alterando a coluna data_inicio e data_conclusao para o tipo datetime\n",
    "# usando a funcao do pandas to_datetime\n",
    "dados_curso['data_inicio'] = pd.to_datetime(dados_curso['data_inicio'])\n",
    "dados_curso['data_conclusao'] = pd.to_datetime(dados_curso['data_conclusao'])\n",
    "\n",
    "# alterando a coluna preço para o tipo float\n",
    "dados_curso['preco'] = dados_curso['preco'].astype(float)"
   ]
  },
  {
   "cell_type": "code",
   "execution_count": 17,
   "metadata": {},
   "outputs": [
    {
     "name": "stdout",
     "output_type": "stream",
     "text": [
      "<class 'pandas.core.frame.DataFrame'>\n",
      "Int64Index: 2 entries, 0 to 2\n",
      "Data columns (total 11 columns):\n",
      " #   Column              Non-Null Count  Dtype         \n",
      "---  ------              --------------  -----         \n",
      " 0   curso               2 non-null      object        \n",
      " 1   categoria           2 non-null      object        \n",
      " 2   carga_horaria       2 non-null      object        \n",
      " 3   concluintes         2 non-null      int32         \n",
      " 4   data_inicio         2 non-null      datetime64[ns]\n",
      " 5   data_conclusao      2 non-null      datetime64[ns]\n",
      " 6   descricao           2 non-null      object        \n",
      " 7   preco               2 non-null      float64       \n",
      " 8   instrutor.nome      2 non-null      object        \n",
      " 9   instrutor.email     2 non-null      object        \n",
      " 10  instrutor.telefone  2 non-null      object        \n",
      "dtypes: datetime64[ns](2), float64(1), int32(1), object(7)\n",
      "memory usage: 184.0+ bytes\n"
     ]
    }
   ],
   "source": [
    "dados_curso.info()"
   ]
  },
  {
   "cell_type": "code",
   "execution_count": null,
   "metadata": {},
   "outputs": [],
   "source": []
  }
 ],
 "metadata": {
  "kernelspec": {
   "display_name": "Python 3",
   "language": "python",
   "name": "python3"
  },
  "language_info": {
   "codemirror_mode": {
    "name": "ipython",
    "version": 3
   },
   "file_extension": ".py",
   "mimetype": "text/x-python",
   "name": "python",
   "nbconvert_exporter": "python",
   "pygments_lexer": "ipython3",
   "version": "3.10.11"
  }
 },
 "nbformat": 4,
 "nbformat_minor": 2
}
